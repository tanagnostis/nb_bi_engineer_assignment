{
 "cells": [
  {
   "cell_type": "markdown",
   "id": "9c99c6ee",
   "metadata": {},
   "source": [
    "# 0. Import libraries and packages"
   ]
  },
  {
   "cell_type": "code",
   "execution_count": null,
   "id": "33ea3bd3",
   "metadata": {},
   "outputs": [],
   "source": [
    "import pandas as pd"
   ]
  },
  {
   "cell_type": "markdown",
   "id": "80f81320",
   "metadata": {},
   "source": [
    "# 1. Datasets - Load and Exploration"
   ]
  },
  {
   "cell_type": "markdown",
   "id": "9f75a7b5",
   "metadata": {},
   "source": [
    "## 1.1 Fact table - Casinodaily "
   ]
  },
  {
   "cell_type": "code",
   "execution_count": null,
   "id": "1a8be016",
   "metadata": {},
   "outputs": [],
   "source": [
    "casinodaily = pd.read_csv('../datasets/casinodaily.csv')"
   ]
  },
  {
   "cell_type": "code",
   "execution_count": null,
   "id": "23cdddc1",
   "metadata": {},
   "outputs": [],
   "source": [
    "casinodaily.info()"
   ]
  },
  {
   "cell_type": "code",
   "execution_count": null,
   "id": "260f2e57",
   "metadata": {},
   "outputs": [],
   "source": [
    "casinodaily.CasinoProviderId.unique()"
   ]
  },
  {
   "cell_type": "code",
   "execution_count": null,
   "id": "87b8cd30",
   "metadata": {},
   "outputs": [],
   "source": [
    "casinodaily.head(20)"
   ]
  },
  {
   "cell_type": "code",
   "execution_count": null,
   "id": "9d8e8238",
   "metadata": {},
   "outputs": [],
   "source": [
    "casinodaily.CurrencyId.unique()"
   ]
  },
  {
   "cell_type": "code",
   "execution_count": null,
   "id": "bc669e7a",
   "metadata": {},
   "outputs": [],
   "source": [
    "casinodaily[casinodaily['CurrencyId']==10]"
   ]
  },
  {
   "cell_type": "code",
   "execution_count": null,
   "id": "60c8dc9c",
   "metadata": {},
   "outputs": [],
   "source": [
    "casinodaily[casinodaily['CurrencyId']==10].CountryId.unique()"
   ]
  },
  {
   "cell_type": "markdown",
   "id": "edaf3d7c",
   "metadata": {},
   "source": [
    "## 1.2 Dimension table - Users"
   ]
  },
  {
   "cell_type": "code",
   "execution_count": null,
   "id": "1b9f0d18",
   "metadata": {},
   "outputs": [],
   "source": [
    "users = pd.read_csv('../datasets/users.csv')"
   ]
  },
  {
   "cell_type": "code",
   "execution_count": null,
   "id": "48068314",
   "metadata": {},
   "outputs": [],
   "source": [
    "users.info()"
   ]
  },
  {
   "cell_type": "code",
   "execution_count": null,
   "id": "315bae63",
   "metadata": {},
   "outputs": [],
   "source": [
    "users.head()"
   ]
  },
  {
   "cell_type": "code",
   "execution_count": null,
   "id": "61de5d15",
   "metadata": {},
   "outputs": [],
   "source": [
    "users.Country.unique()"
   ]
  },
  {
   "cell_type": "markdown",
   "id": "ad727c97",
   "metadata": {},
   "source": [
    "### Convert BirthDate datatype to date"
   ]
  },
  {
   "cell_type": "code",
   "execution_count": null,
   "id": "7ee37b91",
   "metadata": {},
   "outputs": [],
   "source": [
    "users['BirthDate'] =  pd.to_datetime(users['BirthDate'], errors = 'coerce')"
   ]
  },
  {
   "cell_type": "code",
   "execution_count": null,
   "id": "f926d56b",
   "metadata": {},
   "outputs": [],
   "source": [
    "users.info()"
   ]
  },
  {
   "cell_type": "markdown",
   "id": "10e64274",
   "metadata": {},
   "source": [
    "## 1.3 Dimension table - Casino Manufacturers"
   ]
  },
  {
   "cell_type": "code",
   "execution_count": null,
   "id": "9bfd7459",
   "metadata": {},
   "outputs": [],
   "source": [
    "manufacturers = pd.read_csv('../datasets/casinomanufacturers.csv', sep = ', \"', engine = 'python')"
   ]
  },
  {
   "cell_type": "code",
   "execution_count": null,
   "id": "8e2b1c72",
   "metadata": {},
   "outputs": [],
   "source": [
    "manufacturers.info()"
   ]
  },
  {
   "cell_type": "code",
   "execution_count": null,
   "id": "43d47533",
   "metadata": {},
   "outputs": [],
   "source": [
    "manufacturers.head(30)"
   ]
  },
  {
   "cell_type": "markdown",
   "id": "4be8963b",
   "metadata": {},
   "source": [
    "### Split/spread data into multiple columns"
   ]
  },
  {
   "cell_type": "code",
   "execution_count": null,
   "id": "855431a5",
   "metadata": {},
   "outputs": [],
   "source": [
    "manufacturers['\"CasinoManufacturerId,\"\"CasinoManufacturerName\"\",\"\"FromDate\"\",\"\"ToDate\"\",\"\"LatestFlag\"\"\"'].str.split(',',n=4,expand=True).set_axis(['CasinoManufacturerId','CasinoManufacturerName','FromDate', 'ToDate', 'LatestFlag'],axis=1)"
   ]
  },
  {
   "cell_type": "code",
   "execution_count": null,
   "id": "549e39fc",
   "metadata": {},
   "outputs": [],
   "source": [
    "manufacturers = manufacturers['\"CasinoManufacturerId,\"\"CasinoManufacturerName\"\",\"\"FromDate\"\",\"\"ToDate\"\",\"\"LatestFlag\"\"\"'].str.split(',',n=4,expand=True).set_axis(['CasinoManufacturerId','CasinoManufacturerName','FromDate', 'ToDate', 'LatestFlag'],axis=1)"
   ]
  },
  {
   "cell_type": "markdown",
   "id": "6470826e",
   "metadata": {},
   "source": [
    "### Remove all \" from column values"
   ]
  },
  {
   "cell_type": "code",
   "execution_count": null,
   "id": "80ee8085",
   "metadata": {},
   "outputs": [],
   "source": [
    "manufacturers['CasinoManufacturerId'] = manufacturers['CasinoManufacturerId'].str.replace('\"', '')\n",
    "manufacturers['CasinoManufacturerName'] = manufacturers['CasinoManufacturerName'].str.replace('\"', '')\n",
    "manufacturers['LatestFlag'] = manufacturers['LatestFlag'].str.replace('\"', '')"
   ]
  },
  {
   "cell_type": "markdown",
   "id": "282ba3bd",
   "metadata": {},
   "source": [
    "### Convert CasinoManufacturerId and LatestFlag columns to integer"
   ]
  },
  {
   "cell_type": "code",
   "execution_count": null,
   "id": "bb377c30",
   "metadata": {},
   "outputs": [],
   "source": [
    "manufacturers[['CasinoManufacturerId', 'LatestFlag']] = manufacturers[['CasinoManufacturerId', 'LatestFlag']].apply(pd.to_numeric)"
   ]
  },
  {
   "cell_type": "code",
   "execution_count": null,
   "id": "065c2034",
   "metadata": {},
   "outputs": [],
   "source": [
    "manufacturers[manufacturers['LatestFlag'] == 1]"
   ]
  },
  {
   "cell_type": "code",
   "execution_count": null,
   "id": "bad75f5c",
   "metadata": {},
   "outputs": [],
   "source": [
    "manufacturers.info()"
   ]
  },
  {
   "cell_type": "markdown",
   "id": "d9ef10ce",
   "metadata": {},
   "source": [
    "### Keeping only the latest manufacturers names"
   ]
  },
  {
   "cell_type": "code",
   "execution_count": null,
   "id": "c32d3212",
   "metadata": {},
   "outputs": [],
   "source": [
    "manufacturers = manufacturers[manufacturers['LatestFlag'] == 1]"
   ]
  },
  {
   "cell_type": "markdown",
   "id": "30e1af4f",
   "metadata": {},
   "source": [
    "## 1.4 Dimension table - Casino Providers"
   ]
  },
  {
   "cell_type": "code",
   "execution_count": null,
   "id": "11eebfd4",
   "metadata": {},
   "outputs": [],
   "source": [
    "providers = pd.read_csv('../datasets/casinoproviders.csv')"
   ]
  },
  {
   "cell_type": "code",
   "execution_count": null,
   "id": "05cebe2c",
   "metadata": {},
   "outputs": [],
   "source": [
    "providers.info()"
   ]
  },
  {
   "cell_type": "code",
   "execution_count": null,
   "id": "98db8da0",
   "metadata": {},
   "outputs": [],
   "source": [
    "providers"
   ]
  },
  {
   "cell_type": "markdown",
   "id": "5d35ac7a",
   "metadata": {},
   "source": [
    "## 1.5 Dimension table - Currency Rates"
   ]
  },
  {
   "cell_type": "code",
   "execution_count": null,
   "id": "3f9ca1e8",
   "metadata": {},
   "outputs": [],
   "source": [
    "currencyrates = pd.read_csv('../datasets/currencyrates.csv')"
   ]
  },
  {
   "cell_type": "code",
   "execution_count": null,
   "id": "6d7ee9f6",
   "metadata": {},
   "outputs": [],
   "source": [
    "currencyrates.info()"
   ]
  },
  {
   "cell_type": "code",
   "execution_count": null,
   "id": "0796d861",
   "metadata": {},
   "outputs": [],
   "source": [
    "currencyrates"
   ]
  },
  {
   "cell_type": "code",
   "execution_count": null,
   "id": "a2f3fa21",
   "metadata": {},
   "outputs": [],
   "source": [
    "currencyrates.ToCurrencyId.unique()"
   ]
  },
  {
   "cell_type": "markdown",
   "id": "fbf4dd71",
   "metadata": {},
   "source": [
    "# 3. Final aggregated table"
   ]
  },
  {
   "cell_type": "code",
   "execution_count": null,
   "id": "6f7f7f90",
   "metadata": {},
   "outputs": [],
   "source": [
    "casinodaily = casinodaily [casinodaily['CurrencyId']==15]"
   ]
  },
  {
   "cell_type": "markdown",
   "id": "c780c331",
   "metadata": {},
   "source": [
    "I have excluded data with CurrencyId = 10 since the Currency Rate table has only currency rate for CurrencyId = 15."
   ]
  },
  {
   "cell_type": "code",
   "execution_count": null,
   "id": "5ed49a9d",
   "metadata": {},
   "outputs": [],
   "source": [
    "final_table = casinodaily.merge(users, how = 'left', left_on = 'UserID', right_on= 'user_id').merge(manufacturers, how = 'left', on = 'CasinoManufacturerId').merge(providers, how = 'left', on = 'CasinoProviderId')"
   ]
  },
  {
   "cell_type": "markdown",
   "id": "667a06f7",
   "metadata": {},
   "source": [
    "### Add age column to create later AgeGroup column  \n",
    "Instead of now any particular date can be used to do the following calculations"
   ]
  },
  {
   "cell_type": "code",
   "execution_count": null,
   "id": "815c97e0",
   "metadata": {},
   "outputs": [],
   "source": [
    "## Instead of now any particular date can be used to do the following calculations\\\n",
    "now = pd.to_datetime('now')"
   ]
  },
  {
   "cell_type": "code",
   "execution_count": null,
   "id": "b596c9db",
   "metadata": {},
   "outputs": [],
   "source": [
    "now"
   ]
  },
  {
   "cell_type": "code",
   "execution_count": null,
   "id": "749bcedb",
   "metadata": {},
   "outputs": [],
   "source": [
    "final_table.columns"
   ]
  },
  {
   "cell_type": "code",
   "execution_count": null,
   "id": "751432f4",
   "metadata": {},
   "outputs": [],
   "source": [
    "final_table = final_table[['Date', 'Country', 'Sex', 'VIPStatus', 'BirthDate', 'GGR', 'Returns', 'CasinoManufacturerId', 'CasinoManufacturerName', 'CasinoProviderId','CasinoProviderName']]\n",
    "#AgeGroup (combine casinodaily with users on BirthDate)\n",
    "#CasinoProviderName (combine casinodaily with Providers on CasinoProviderId)\n",
    "# GGR_EUR (casinodaily plus CurrencyRates)\n",
    "# Returns_EUR (casinodaily plus CurrencyRates)"
   ]
  },
  {
   "cell_type": "code",
   "execution_count": null,
   "id": "192b8bfa",
   "metadata": {},
   "outputs": [],
   "source": [
    "final_table.head(10)"
   ]
  }
 ],
 "metadata": {
  "kernelspec": {
   "display_name": "base",
   "language": "python",
   "name": "python3"
  },
  "language_info": {
   "codemirror_mode": {
    "name": "ipython",
    "version": 3
   },
   "file_extension": ".py",
   "mimetype": "text/x-python",
   "name": "python",
   "nbconvert_exporter": "python",
   "pygments_lexer": "ipython3",
   "version": "3.10.9"
  }
 },
 "nbformat": 4,
 "nbformat_minor": 5
}
