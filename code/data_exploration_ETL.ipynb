{
 "cells": [
  {
   "cell_type": "markdown",
   "id": "9c99c6ee",
   "metadata": {},
   "source": [
    "# 0. Import libraries and packages"
   ]
  },
  {
   "cell_type": "code",
   "execution_count": null,
   "id": "33ea3bd3",
   "metadata": {},
   "outputs": [],
   "source": [
    "import pandas as pd\n",
    "import os"
   ]
  },
  {
   "cell_type": "markdown",
   "id": "80f81320",
   "metadata": {},
   "source": [
    "# 1. Datasets - Load and Exploration"
   ]
  },
  {
   "cell_type": "markdown",
   "id": "9f75a7b5",
   "metadata": {},
   "source": [
    "## 1.1 Fact table - Casinodaily "
   ]
  },
  {
   "cell_type": "code",
   "execution_count": null,
   "id": "1a8be016",
   "metadata": {},
   "outputs": [],
   "source": [
    "casinodaily = pd.read_csv('../datasets/casinodaily.csv')"
   ]
  },
  {
   "cell_type": "code",
   "execution_count": null,
   "id": "23cdddc1",
   "metadata": {},
   "outputs": [],
   "source": [
    "casinodaily.info()"
   ]
  },
  {
   "cell_type": "code",
   "execution_count": null,
   "id": "87b8cd30",
   "metadata": {},
   "outputs": [],
   "source": [
    "casinodaily.head(20)"
   ]
  },
  {
   "cell_type": "code",
   "execution_count": null,
   "id": "9d8e8238",
   "metadata": {},
   "outputs": [],
   "source": [
    "casinodaily.CurrencyId.unique()"
   ]
  },
  {
   "cell_type": "code",
   "execution_count": null,
   "id": "bc669e7a",
   "metadata": {},
   "outputs": [],
   "source": [
    "casinodaily[casinodaily['CurrencyId']==15]"
   ]
  },
  {
   "cell_type": "code",
   "execution_count": null,
   "id": "9706c617",
   "metadata": {},
   "outputs": [],
   "source": [
    "casinodaily[casinodaily['CurrencyId']==15].count()"
   ]
  },
  {
   "cell_type": "code",
   "execution_count": null,
   "id": "60c8dc9c",
   "metadata": {},
   "outputs": [],
   "source": [
    "casinodaily[casinodaily['CurrencyId']==10].CountryId.unique()"
   ]
  },
  {
   "cell_type": "markdown",
   "id": "edaf3d7c",
   "metadata": {},
   "source": [
    "## 1.2 Dimension table - Users"
   ]
  },
  {
   "cell_type": "code",
   "execution_count": null,
   "id": "1b9f0d18",
   "metadata": {},
   "outputs": [],
   "source": [
    "users = pd.read_csv('../datasets/users.csv')"
   ]
  },
  {
   "cell_type": "code",
   "execution_count": null,
   "id": "48068314",
   "metadata": {},
   "outputs": [],
   "source": [
    "users.info()"
   ]
  },
  {
   "cell_type": "code",
   "execution_count": null,
   "id": "315bae63",
   "metadata": {},
   "outputs": [],
   "source": [
    "users.head()"
   ]
  },
  {
   "cell_type": "code",
   "execution_count": null,
   "id": "61de5d15",
   "metadata": {},
   "outputs": [],
   "source": [
    "users.Country.unique()"
   ]
  },
  {
   "cell_type": "markdown",
   "id": "ad727c97",
   "metadata": {},
   "source": [
    "### Convert BirthDate datatype to date"
   ]
  },
  {
   "cell_type": "code",
   "execution_count": null,
   "id": "7ee37b91",
   "metadata": {},
   "outputs": [],
   "source": [
    "users['BirthDate'] =  pd.to_datetime(users['BirthDate'], errors = 'coerce')"
   ]
  },
  {
   "cell_type": "code",
   "execution_count": null,
   "id": "f926d56b",
   "metadata": {},
   "outputs": [],
   "source": [
    "users.info()"
   ]
  },
  {
   "cell_type": "markdown",
   "id": "10e64274",
   "metadata": {},
   "source": [
    "## 1.3 Dimension table - Casino Manufacturers"
   ]
  },
  {
   "cell_type": "code",
   "execution_count": null,
   "id": "9bfd7459",
   "metadata": {},
   "outputs": [],
   "source": [
    "manufacturers = pd.read_csv('../datasets/casinomanufacturers.csv', sep = ', \"', engine = 'python')"
   ]
  },
  {
   "cell_type": "code",
   "execution_count": null,
   "id": "8e2b1c72",
   "metadata": {},
   "outputs": [],
   "source": [
    "manufacturers.info()"
   ]
  },
  {
   "cell_type": "code",
   "execution_count": null,
   "id": "43d47533",
   "metadata": {},
   "outputs": [],
   "source": [
    "manufacturers.head(30)"
   ]
  },
  {
   "cell_type": "markdown",
   "id": "4be8963b",
   "metadata": {},
   "source": [
    "### Split/spread data into multiple columns"
   ]
  },
  {
   "cell_type": "code",
   "execution_count": null,
   "id": "855431a5",
   "metadata": {},
   "outputs": [],
   "source": [
    "manufacturers['\"CasinoManufacturerId,\"\"CasinoManufacturerName\"\",\"\"FromDate\"\",\"\"ToDate\"\",\"\"LatestFlag\"\"\"'].str.split(',',n=4,expand=True).set_axis(['CasinoManufacturerId','CasinoManufacturerName','FromDate', 'ToDate', 'LatestFlag'],axis=1)"
   ]
  },
  {
   "cell_type": "code",
   "execution_count": null,
   "id": "549e39fc",
   "metadata": {},
   "outputs": [],
   "source": [
    "manufacturers = manufacturers['\"CasinoManufacturerId,\"\"CasinoManufacturerName\"\",\"\"FromDate\"\",\"\"ToDate\"\",\"\"LatestFlag\"\"\"'].str.split(',',n=4,expand=True).set_axis(['CasinoManufacturerId','CasinoManufacturerName','FromDate', 'ToDate', 'LatestFlag'],axis=1)"
   ]
  },
  {
   "cell_type": "markdown",
   "id": "6470826e",
   "metadata": {},
   "source": [
    "### Remove all \" from column values"
   ]
  },
  {
   "cell_type": "code",
   "execution_count": null,
   "id": "80ee8085",
   "metadata": {},
   "outputs": [],
   "source": [
    "manufacturers['CasinoManufacturerId'] = manufacturers['CasinoManufacturerId'].str.replace('\"', '')\n",
    "manufacturers['CasinoManufacturerName'] = manufacturers['CasinoManufacturerName'].str.replace('\"', '')\n",
    "manufacturers['LatestFlag'] = manufacturers['LatestFlag'].str.replace('\"', '')"
   ]
  },
  {
   "cell_type": "markdown",
   "id": "282ba3bd",
   "metadata": {},
   "source": [
    "### Convert CasinoManufacturerId and LatestFlag columns to integer"
   ]
  },
  {
   "cell_type": "code",
   "execution_count": null,
   "id": "bb377c30",
   "metadata": {},
   "outputs": [],
   "source": [
    "manufacturers[['CasinoManufacturerId', 'LatestFlag']] = manufacturers[['CasinoManufacturerId', 'LatestFlag']].apply(pd.to_numeric)"
   ]
  },
  {
   "cell_type": "code",
   "execution_count": null,
   "id": "065c2034",
   "metadata": {},
   "outputs": [],
   "source": [
    "manufacturers[manufacturers['LatestFlag'] == 1]"
   ]
  },
  {
   "cell_type": "code",
   "execution_count": null,
   "id": "bad75f5c",
   "metadata": {},
   "outputs": [],
   "source": [
    "manufacturers.info()"
   ]
  },
  {
   "cell_type": "markdown",
   "id": "d9ef10ce",
   "metadata": {},
   "source": [
    "### Keeping only the latest manufacturers names"
   ]
  },
  {
   "cell_type": "code",
   "execution_count": null,
   "id": "c32d3212",
   "metadata": {},
   "outputs": [],
   "source": [
    "manufacturers = manufacturers[manufacturers['LatestFlag'] == 1]"
   ]
  },
  {
   "cell_type": "markdown",
   "id": "30e1af4f",
   "metadata": {},
   "source": [
    "## 1.4 Dimension table - Casino Providers"
   ]
  },
  {
   "cell_type": "code",
   "execution_count": null,
   "id": "11eebfd4",
   "metadata": {},
   "outputs": [],
   "source": [
    "providers = pd.read_csv('../datasets/casinoproviders.csv')"
   ]
  },
  {
   "cell_type": "code",
   "execution_count": null,
   "id": "05cebe2c",
   "metadata": {},
   "outputs": [],
   "source": [
    "providers.info()"
   ]
  },
  {
   "cell_type": "code",
   "execution_count": null,
   "id": "98db8da0",
   "metadata": {},
   "outputs": [],
   "source": [
    "providers.head(50)"
   ]
  },
  {
   "cell_type": "markdown",
   "id": "3f5d8d72",
   "metadata": {},
   "source": [
    "### Dropping 4 rows. 2 of them have same id and similar name (EGTGaming, ESAGaming), the other 2 have same id and different name."
   ]
  },
  {
   "cell_type": "code",
   "execution_count": null,
   "id": "ea83d54e",
   "metadata": {},
   "outputs": [],
   "source": [
    "providers.drop([2, 10, 25, 29], inplace= True)"
   ]
  },
  {
   "cell_type": "markdown",
   "id": "5d35ac7a",
   "metadata": {},
   "source": [
    "## 1.5 Dimension table - Currency Rates"
   ]
  },
  {
   "cell_type": "code",
   "execution_count": null,
   "id": "3f9ca1e8",
   "metadata": {},
   "outputs": [],
   "source": [
    "currencyrates = pd.read_csv('../datasets/currencyrates.csv')"
   ]
  },
  {
   "cell_type": "code",
   "execution_count": null,
   "id": "6d7ee9f6",
   "metadata": {},
   "outputs": [],
   "source": [
    "currencyrates.info()"
   ]
  },
  {
   "cell_type": "code",
   "execution_count": null,
   "id": "0796d861",
   "metadata": {},
   "outputs": [],
   "source": [
    "currencyrates"
   ]
  },
  {
   "cell_type": "code",
   "execution_count": null,
   "id": "a2f3fa21",
   "metadata": {},
   "outputs": [],
   "source": [
    "currencyrates.ToCurrencyId.unique()"
   ]
  },
  {
   "cell_type": "markdown",
   "id": "fbf4dd71",
   "metadata": {},
   "source": [
    "# 3. Joined data table"
   ]
  },
  {
   "cell_type": "code",
   "execution_count": null,
   "id": "6f7f7f90",
   "metadata": {},
   "outputs": [],
   "source": [
    "casinodaily = casinodaily [casinodaily['CurrencyId']==15]"
   ]
  },
  {
   "cell_type": "markdown",
   "id": "c780c331",
   "metadata": {},
   "source": [
    "I have excluded data with CurrencyId = 10 since the Currency Rate table has only currency rate for CurrencyId = 15."
   ]
  },
  {
   "cell_type": "code",
   "execution_count": null,
   "id": "5ed49a9d",
   "metadata": {},
   "outputs": [],
   "source": [
    "final_table = casinodaily \\\n",
    "    .merge(users, how = 'left', left_on = 'UserID', right_on= 'user_id')\\\n",
    "    .merge(manufacturers, how = 'left', on = 'CasinoManufacturerId')\\\n",
    "    .merge(providers, how = 'left', on = 'CasinoProviderId')\\\n",
    "    .merge(currencyrates, how = 'left', left_on =['CurrencyId', 'Date'], right_on = ['ToCurrencyId', 'Date'])"
   ]
  },
  {
   "cell_type": "code",
   "execution_count": null,
   "id": "5ad48c03",
   "metadata": {},
   "outputs": [],
   "source": [
    "final_table.info()"
   ]
  },
  {
   "cell_type": "markdown",
   "id": "667a06f7",
   "metadata": {},
   "source": [
    "### Create Age column to create later AgeGroup column  \n",
    "Instead of now any particular date can be used to do the following calculations"
   ]
  },
  {
   "cell_type": "code",
   "execution_count": null,
   "id": "815c97e0",
   "metadata": {},
   "outputs": [],
   "source": [
    "now = pd.to_datetime('now')"
   ]
  },
  {
   "cell_type": "code",
   "execution_count": null,
   "id": "b596c9db",
   "metadata": {},
   "outputs": [],
   "source": [
    "final_table['Age']=(now - final_table['BirthDate']).dt.total_seconds() / (60*60*24*365.25)"
   ]
  },
  {
   "cell_type": "markdown",
   "id": "d4964260",
   "metadata": {},
   "source": [
    "### Create AgeGroup column"
   ]
  },
  {
   "cell_type": "code",
   "execution_count": null,
   "id": "dfc7d83f",
   "metadata": {},
   "outputs": [],
   "source": [
    "final_table['AgeGroup'] = pd.cut(final_table['Age'], \n",
    "                            [0, 18, 21, 27, 33, 41, 51, 150], \n",
    "                            labels=['Under 18', '18-20', '21-26', '27-32', '33-40', '41-50', '50+'])"
   ]
  },
  {
   "cell_type": "markdown",
   "id": "0300d549",
   "metadata": {},
   "source": [
    "### Currency conversions"
   ]
  },
  {
   "cell_type": "code",
   "execution_count": null,
   "id": "a3e97b82",
   "metadata": {},
   "outputs": [],
   "source": [
    "final_table['GGR_EUR'] = final_table['GGR']*final_table['EuroRate']\n",
    "final_table['Returns_EUR'] = final_table['Returns']*final_table['EuroRate']"
   ]
  },
  {
   "cell_type": "code",
   "execution_count": null,
   "id": "749bcedb",
   "metadata": {},
   "outputs": [],
   "source": [
    "final_table.columns"
   ]
  },
  {
   "cell_type": "code",
   "execution_count": null,
   "id": "751432f4",
   "metadata": {},
   "outputs": [],
   "source": [
    "final_table = final_table[['Date', 'Country', 'Sex', 'AgeGroup','VIPStatus', 'CasinoManufacturerName', 'CasinoProviderName', 'GGR', 'Returns', 'GGR_EUR', 'Returns_EUR']]"
   ]
  },
  {
   "cell_type": "code",
   "execution_count": null,
   "id": "192b8bfa",
   "metadata": {},
   "outputs": [],
   "source": [
    "final_table.head(50)"
   ]
  },
  {
   "cell_type": "code",
   "execution_count": null,
   "id": "5f23d840",
   "metadata": {},
   "outputs": [],
   "source": [
    "final_table.count()"
   ]
  },
  {
   "cell_type": "markdown",
   "id": "d67552af",
   "metadata": {},
   "source": [
    "# 4. Aggregated Data"
   ]
  },
  {
   "cell_type": "code",
   "execution_count": null,
   "id": "c90ca03e",
   "metadata": {},
   "outputs": [],
   "source": [
    "agr = final_table.groupby(['Date', 'Country', 'Sex', 'AgeGroup', 'VIPStatus', 'CasinoManufacturerName', 'CasinoProviderName'], as_index = False)[['GGR', 'Returns', 'GGR_EUR', 'Returns_EUR']].agg('sum')"
   ]
  },
  {
   "cell_type": "code",
   "execution_count": null,
   "id": "89f1cc7f",
   "metadata": {},
   "outputs": [],
   "source": [
    "agr = agr[agr['Returns']!=0].reset_index()"
   ]
  },
  {
   "cell_type": "code",
   "execution_count": null,
   "id": "2e105122",
   "metadata": {},
   "outputs": [],
   "source": [
    "agr.columns"
   ]
  },
  {
   "cell_type": "code",
   "execution_count": null,
   "id": "d81a4f53",
   "metadata": {},
   "outputs": [],
   "source": [
    "agr.drop(['index'], axis=1, inplace= True)"
   ]
  },
  {
   "cell_type": "code",
   "execution_count": null,
   "id": "d5ee713f",
   "metadata": {},
   "outputs": [],
   "source": [
    "agr.columns"
   ]
  },
  {
   "cell_type": "code",
   "execution_count": null,
   "id": "5e320123",
   "metadata": {},
   "outputs": [],
   "source": [
    "agr"
   ]
  },
  {
   "cell_type": "markdown",
   "id": "1e47073b",
   "metadata": {},
   "source": [
    "### Create target subdirectory"
   ]
  },
  {
   "cell_type": "code",
   "execution_count": null,
   "id": "7ebefc0b",
   "metadata": {},
   "outputs": [],
   "source": [
    "os.makedirs('../target', exist_ok=True)  "
   ]
  },
  {
   "cell_type": "markdown",
   "id": "42621622",
   "metadata": {},
   "source": [
    "### Write data to csv file in target subdirectory"
   ]
  },
  {
   "cell_type": "code",
   "execution_count": null,
   "id": "ede8937b",
   "metadata": {},
   "outputs": [],
   "source": [
    "agr.to_csv('../target/aggregated_data.csv') "
   ]
  }
 ],
 "metadata": {
  "kernelspec": {
   "display_name": "base",
   "language": "python",
   "name": "python3"
  },
  "language_info": {
   "codemirror_mode": {
    "name": "ipython",
    "version": 3
   },
   "file_extension": ".py",
   "mimetype": "text/x-python",
   "name": "python",
   "nbconvert_exporter": "python",
   "pygments_lexer": "ipython3",
   "version": "3.10.9"
  }
 },
 "nbformat": 4,
 "nbformat_minor": 5
}
